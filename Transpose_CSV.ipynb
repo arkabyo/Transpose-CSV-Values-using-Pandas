{
  "nbformat": 4,
  "nbformat_minor": 0,
  "metadata": {
    "colab": {
      "provenance": [],
      "authorship_tag": "ABX9TyPmXx6Na2cFv8QnV9D9/LOX",
      "include_colab_link": true
    },
    "kernelspec": {
      "name": "python3",
      "display_name": "Python 3"
    }
  },
  "cells": [
    {
      "cell_type": "markdown",
      "metadata": {
        "id": "view-in-github",
        "colab_type": "text"
      },
      "source": [
        "<a href=\"https://colab.research.google.com/github/arkabyo/Transpose-CSV-Values-using-Pandas/blob/main/Transpose_CSV.ipynb\" target=\"_parent\"><img src=\"https://colab.research.google.com/assets/colab-badge.svg\" alt=\"Open In Colab\"/></a>"
      ]
    },
    {
      "cell_type": "markdown",
      "metadata": {
        "id": "21M_meBnHTq8"
      },
      "source": [
        "# Transpose CSV Values using Pandas\n",
        "Transpose row values into a single column when each row contains value for one item and have multiple columns. Best use in e-commerce bulk product upload if each product row has multiple pictures in different columns, but you need to put it in one column (eg. Shopify).\n",
        "\n",
        "Option 1: Import using Google Drive (Collab)\n",
        "\n",
        "Option 2: Import using File URL\n",
        "\n",
        "Input CSV\n",
        "```\n",
        "Col1    Col2    Col3\n",
        "V1.1    V1.2    V1.3\n",
        "V2.1    V2.2    V2.3\n",
        "V3.1    V3.2    V3.3\n",
        "```\n",
        "Output:\n",
        "```\n",
        "Col1 V1.1\n",
        "Col2 V1.2\n",
        "Col3 V1.3\n",
        "Col1 V2.1\n",
        "Col2 V2.2\n",
        "Col3 V2.3\n",
        "Col1 V3.1\n",
        "Col2 V3.2\n",
        "Col3 V3.3\n",
        "```"
      ]
    },
    {
      "cell_type": "code",
      "source": [
        "#mount Google drive to import/export data using Google Colab\n",
        "from google.colab import drive\n",
        "drive.mount('/content/drive')"
      ],
      "metadata": {
        "id": "0yrWmnMlJIld"
      },
      "execution_count": null,
      "outputs": []
    },
    {
      "cell_type": "code",
      "source": [
        "#import Pandas\n",
        "import pandas as pd\n",
        "\n",
        "#Import Option 1: Load CSV into Data Frame using Google Drive\n",
        "df = pd.read_csv(r'drive/My Drive/Colab/import.csv')\n",
        "\n",
        "#Import Option 2: Load CSV into Data Frame using URL\n",
        "#df = pd.read_csv(r'file_url.csv')\n",
        "\n",
        "\n",
        "#Copy Stacked Data Frame into a new Data Frame\n",
        "new_df = df.stack()\n",
        "\n",
        "#view first 20 values to check\n",
        "new_df.head(20)"
      ],
      "metadata": {
        "id": "jOBfV9LvJXaM"
      },
      "execution_count": null,
      "outputs": []
    },
    {
      "cell_type": "code",
      "metadata": {
        "id": "6F7jsvekKwcp"
      },
      "source": [
        "#Copy Stacked Data Frame into a new Data Frame\n",
        "new_df = df.stack()\n",
        "\n",
        "#Save the new data frame to a CSV\n",
        "new_df.to_csv('export_file_name.csv')\n",
        "\n",
        "#Exporting the CSV to Google Drive\n",
        "#Make sure the folder exists in the drive.\n",
        "!cp export_file_name.csv \"drive/My Drive/Colab\"\n",
        "\n",
        "#Python Export to a specific directory\n",
        "#new_df.to_csv('/tmp/export_file_name.csv', index=False)"
      ],
      "execution_count": null,
      "outputs": []
    }
  ]
}